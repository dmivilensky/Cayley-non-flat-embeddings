{
 "cells": [
  {
   "cell_type": "code",
   "execution_count": 20,
   "metadata": {},
   "outputs": [],
   "source": [
    "import torch\n",
    "import numpy\n",
    "import random\n",
    "from torch.utils.data import Dataset\n",
    "import matplotlib.pyplot as plt\n",
    "from mpl_toolkits.mplot3d import Axes3D\n",
    "from matplotlib.ticker import NullFormatter\n",
    "\n",
    "import sklearn\n",
    "from sklearn import manifold, datasets"
   ]
  },
  {
   "cell_type": "code",
   "execution_count": 21,
   "metadata": {},
   "outputs": [],
   "source": [
    "def lcp(strs):\n",
    "    if len(strs) == 0:\n",
    "        return \"\"\n",
    "    current = strs[0]\n",
    "    for i in range(1, len(strs)):\n",
    "        temp = \"\"\n",
    "        if len(current) == 0:\n",
    "            break\n",
    "        for j in range(len(strs[i])):\n",
    "            if j < len(current) and current[j] == strs[i][j]:\n",
    "                temp += current[j]\n",
    "            else:\n",
    "                break\n",
    "        current = temp\n",
    "    return current\n",
    "\n",
    "\n",
    "def pairwise_distances(sequences):\n",
    "    batch_size = sequences.shape[0]\n",
    "    result = numpy.zeros(shape=(batch_size, batch_size))\n",
    "    for i in range(batch_size):\n",
    "        for j in range(i + 1):\n",
    "            s1 = \"\".join(map(lambda x: str(x).strip(\"0\"), sequences[i]))\n",
    "            s2 = \"\".join(map(lambda x: str(x).strip(\"0\"), sequences[j]))\n",
    "            result[i, j] = result[j, i] =\\\n",
    "                len(s1) + len(s2) - 2 * len(lcp([s1, s2]))\n",
    "    return result"
   ]
  },
  {
   "cell_type": "code",
   "execution_count": 22,
   "metadata": {},
   "outputs": [],
   "source": [
    "class GroupDataset(Dataset):\n",
    "    def __init__(self, sample_count, generators):\n",
    "        self.sample_count = sample_count\n",
    "        self.generators = generators\n",
    "\n",
    "    def __len__(self):\n",
    "        return self.sample_count\n",
    "\n",
    "    def __getitem__(self, idx):\n",
    "        length = max(1, int(numpy.random.poisson(lam=5.0)))\n",
    "        sequence = [random.choice(list(range(1, 1 + 2 * self.generators)))]\n",
    "        for _ in range(length - 1):\n",
    "            sequence.append(random.choice(list(\n",
    "                set(range(1, 1 + 2 * self.generators)) -\n",
    "                set([1 + (sequence[-1] + 1) % 4])\n",
    "            )))\n",
    "        sequence = \"\".join(map(str, sequence))\n",
    "\n",
    "        return list(map(int, list(sequence)))"
   ]
  },
  {
   "cell_type": "code",
   "execution_count": 23,
   "metadata": {},
   "outputs": [],
   "source": [
    "sample_count = 100\n",
    "steps = 30\n",
    "generators = 2\n",
    "group_dataset = GroupDataset(sample_count, generators)"
   ]
  },
  {
   "cell_type": "code",
   "execution_count": 24,
   "metadata": {},
   "outputs": [],
   "source": [
    "dataset = [group_dataset.__getitem__(i) for i in range(50)]"
   ]
  },
  {
   "cell_type": "code",
   "execution_count": 25,
   "metadata": {},
   "outputs": [
    {
     "data": {
      "text/plain": [
       "[[4, 4, 1, 2],\n",
       " [3, 3, 2, 2, 1, 4],\n",
       " [1, 4, 4, 4, 3, 4],\n",
       " [4],\n",
       " [2, 1, 4, 4, 1, 2, 1],\n",
       " [4, 3, 4, 3, 3],\n",
       " [4, 3],\n",
       " [4, 1],\n",
       " [4, 1, 1, 1, 4],\n",
       " [1, 4, 4],\n",
       " [1, 4, 1, 2],\n",
       " [1, 2],\n",
       " [2, 2, 3],\n",
       " [3, 3, 4, 1, 1],\n",
       " [2, 1, 2, 2, 1],\n",
       " [4, 4, 1, 4, 3, 3],\n",
       " [2, 1, 2, 1, 1, 2, 3, 4, 1, 1],\n",
       " [4, 1, 2, 3, 3, 4],\n",
       " [1, 4, 1, 4, 1, 2, 1, 4, 4, 1, 4],\n",
       " [4, 3, 2, 3, 2, 3],\n",
       " [4, 1, 2, 1, 2, 2],\n",
       " [1],\n",
       " [2, 2, 1, 2, 1, 4, 1, 1],\n",
       " [4, 3, 4, 1, 4, 1, 2],\n",
       " [1, 4],\n",
       " [2, 1, 4, 3, 4, 1],\n",
       " [1, 2, 2],\n",
       " [3, 2, 1, 2, 2, 3],\n",
       " [3, 3],\n",
       " [2, 2, 3, 2, 3, 2, 1],\n",
       " [1, 4],\n",
       " [1, 4, 3, 4, 4],\n",
       " [1, 4, 4],\n",
       " [2, 3],\n",
       " [1, 2, 2],\n",
       " [4, 3],\n",
       " [1, 4, 3, 4],\n",
       " [1, 2],\n",
       " [1, 4, 1],\n",
       " [2, 1, 2, 1, 2, 3, 4, 1, 1, 4, 1],\n",
       " [3, 3, 3],\n",
       " [4, 3, 4, 4, 1],\n",
       " [2, 1, 4, 3, 3, 2, 2],\n",
       " [3, 4, 3, 4, 1, 1, 2, 3, 3, 2, 1, 2, 1, 1],\n",
       " [4, 4, 3],\n",
       " [1, 2, 3, 2, 3, 3],\n",
       " [2, 3],\n",
       " [2, 1, 1, 2, 2],\n",
       " [4, 3],\n",
       " [2, 2, 3, 3, 2]]"
      ]
     },
     "execution_count": 25,
     "metadata": {},
     "output_type": "execute_result"
    }
   ],
   "source": [
    "dataset"
   ]
  },
  {
   "cell_type": "code",
   "execution_count": 26,
   "metadata": {},
   "outputs": [
    {
     "name": "stderr",
     "output_type": "stream",
     "text": [
      "<ipython-input-26-cc793f9c3b11>:1: VisibleDeprecationWarning: Creating an ndarray from ragged nested sequences (which is a list-or-tuple of lists-or-tuples-or ndarrays with different lengths or shapes) is deprecated. If you meant to do this, you must specify 'dtype=object' when creating the ndarray\n",
      "  Y = pairwise_distances(numpy.array(dataset))\n"
     ]
    }
   ],
   "source": [
    "Y = pairwise_distances(numpy.array(dataset))"
   ]
  },
  {
   "cell_type": "code",
   "execution_count": 27,
   "metadata": {},
   "outputs": [
    {
     "data": {
      "text/plain": [
       "array([[ 0., 10., 10., ...,  9.,  4.,  9.],\n",
       "       [10.,  0., 12., ..., 11.,  8., 11.],\n",
       "       [10., 12.,  0., ..., 11.,  8., 11.],\n",
       "       ...,\n",
       "       [ 9., 11., 11., ...,  0.,  7.,  8.],\n",
       "       [ 4.,  8.,  8., ...,  7.,  0.,  7.],\n",
       "       [ 9., 11., 11., ...,  8.,  7.,  0.]])"
      ]
     },
     "execution_count": 27,
     "metadata": {},
     "output_type": "execute_result"
    }
   ],
   "source": [
    "Y"
   ]
  },
  {
   "cell_type": "code",
   "execution_count": 28,
   "metadata": {},
   "outputs": [
    {
     "data": {
      "image/png": "[encoded data removed]",
      "text/plain": [
       "<Figure size 1080x576 with 1 Axes>"
      ]
     },
     "metadata": {
      "needs_background": "light"
     },
     "output_type": "display_data"
    },
    {
     "data": {
      "text/plain": [
       "array([[-3.03152108e+00,  5.38569251e-01,  1.19078046e+00,\n",
       "         3.77171696e-01, -1.42083346e+00,  3.26549513e-01,\n",
       "         1.41290741e+00,  9.58382964e-01, -2.34724397e+00,\n",
       "         2.16149860e+00],\n",
       "       [-2.11817579e+00, -1.90931685e+00,  7.05774477e-01,\n",
       "        -4.89611760e+00, -2.16515860e+00, -1.92672195e+00,\n",
       "        -3.62249116e+00,  3.30490880e+00,  5.20718353e-01,\n",
       "         2.44087580e-01],\n",
       "       [-2.19773378e+00, -5.22251290e-01, -1.03137686e+00,\n",
       "        -1.58142105e+00,  4.58013098e+00,  1.11062718e+00,\n",
       "         2.39320047e+00,  2.23626700e+00,  2.02190164e+00,\n",
       "        -2.53864107e+00],\n",
       "       [-7.81510352e-02,  2.87667865e-01,  4.77089137e-01,\n",
       "        -2.09427176e-01, -7.20166802e-01,  1.94636795e-01,\n",
       "         5.94534057e-01,  6.85789556e-02, -4.53609839e-01,\n",
       "         5.25002231e-01],\n",
       "       [-1.85885625e+00,  1.56668267e+00, -3.91157952e+00,\n",
       "         2.75823431e+00, -5.51426278e-01, -1.44452161e+00,\n",
       "        -5.36554895e+00, -2.13790782e+00, -1.36570152e+00,\n",
       "         2.83715997e+00],\n",
       "       [ 1.26736952e+00,  1.22560522e+00,  1.83034745e+00,\n",
       "         5.50072138e-01, -3.95593240e+00, -6.04861983e-01,\n",
       "         3.25402922e+00, -1.82807682e+00, -7.34680264e-01,\n",
       "         4.57822201e-01],\n",
       "       [ 1.79409415e-01,  4.10775547e-01,  1.10837263e+00,\n",
       "        -6.82249404e-02, -1.39760963e+00, -1.05480717e-03,\n",
       "         1.31504652e+00, -2.48952930e-01, -3.49272853e-01,\n",
       "         7.16519651e-01],\n",
       "       [ 1.98368602e-01,  7.91646084e-01,  3.53204616e-01,\n",
       "        -9.19276117e-01, -8.39571679e-01,  7.80763305e-01,\n",
       "         9.63173495e-01,  2.82393235e-01, -1.00901297e+00,\n",
       "         9.58398359e-01],\n",
       "       [-9.39393545e-01,  3.60380820e+00,  1.92022679e+00,\n",
       "        -1.72419451e+00, -1.64090125e+00,  3.48420683e+00,\n",
       "         6.61915160e-01,  9.16260312e-01, -1.96628634e+00,\n",
       "         4.56631519e-01],\n",
       "       [-7.31013426e-01,  1.23989997e-01, -7.76867776e-01,\n",
       "        -2.33855125e-01,  1.89790324e+00,  9.11596426e-02,\n",
       "         1.10107309e+00,  1.14390982e+00,  1.16078628e+00,\n",
       "        -1.72009812e+00],\n",
       "       [-1.69713344e-01,  1.79203866e-01, -1.02384393e+00,\n",
       "         9.81153765e-01,  1.68994340e+00, -1.74996506e+00,\n",
       "         1.46917326e+00,  2.00856523e+00,  1.42851904e+00,\n",
       "        -2.41161758e+00],\n",
       "       [-7.41490073e-01, -7.03777841e-01, -7.41814856e-01,\n",
       "        -1.55411960e-01,  6.74713759e-01, -5.07939807e-01,\n",
       "         5.02737607e-01, -3.11013846e-01, -4.58180007e-01,\n",
       "        -1.37004652e+00],\n",
       "       [ 1.70191983e+00,  3.62573503e-01,  1.40160956e+00,\n",
       "         1.83554052e-01,  1.66985967e+00, -3.01080242e-01,\n",
       "        -2.23081835e+00, -5.89472156e-01, -1.05017620e+00,\n",
       "         5.66471462e-01],\n",
       "       [-1.28832751e+00,  4.09858499e-02,  6.37212833e-01,\n",
       "        -3.54061135e+00, -3.10618484e+00, -1.95960561e+00,\n",
       "        -3.01293545e+00,  4.61482316e-01,  2.80752303e+00,\n",
       "        -9.41602835e-01],\n",
       "       [ 1.58777530e+00,  1.27512883e+00, -1.19553502e+00,\n",
       "         1.76471166e+00,  1.37205511e+00,  1.20383461e+00,\n",
       "        -2.69949040e+00, -1.06300822e+00,  2.58259626e+00,\n",
       "         3.13618531e+00],\n",
       "       [-3.88230192e+00,  7.47369656e-03,  1.48074534e+00,\n",
       "         2.39174151e+00, -2.57237603e+00,  1.49761873e+00,\n",
       "         2.02762280e+00,  2.68813530e+00, -3.38876327e+00,\n",
       "         2.11150352e+00],\n",
       "       [-4.21734879e-01, -1.50516714e+00,  2.98603495e+00,\n",
       "         5.96849598e+00,  4.21579549e+00,  3.08447253e+00,\n",
       "        -3.38734637e+00,  1.05127146e-01,  5.50545650e+00,\n",
       "         5.26574685e+00],\n",
       "       [ 1.68379787e+00,  5.03466283e-01, -1.02850992e+00,\n",
       "        -2.44479092e+00, -6.52770014e-01,  1.70363368e+00,\n",
       "         3.47166688e+00,  2.31673547e+00, -3.99149703e+00,\n",
       "         3.24285696e+00],\n",
       "       [-1.23327991e+00,  2.43288461e+00, -2.72150797e+00,\n",
       "         1.90758294e+00,  3.91926838e+00, -6.32060124e+00,\n",
       "         3.71969100e+00,  5.78279298e+00,  2.91281346e+00,\n",
       "        -6.18304178e+00],\n",
       "       [ 1.64910788e+00, -1.39581856e+00,  3.75525958e+00,\n",
       "         1.36110893e+00, -3.41939380e+00, -2.19590708e+00,\n",
       "         3.38510003e+00,  1.71423990e+00, -1.26035303e+00,\n",
       "         1.49652331e+00],\n",
       "       [ 1.21319951e+00,  2.91016748e+00, -1.00749186e+00,\n",
       "        -4.71336389e+00, -7.07352630e-01,  7.79303863e-01,\n",
       "         2.91937047e+00, -3.09834421e-01, -2.93354469e+00,\n",
       "         2.47605693e+00],\n",
       "       [-3.23460531e-01, -1.05717932e-01, -3.19292715e-01,\n",
       "        -6.31742588e-02,  4.58203072e-01, -1.88589404e-01,\n",
       "         2.80695101e-01,  1.83082975e-01,  8.79903142e-02,\n",
       "        -7.85817379e-01],\n",
       "       [ 4.61710106e+00,  9.76156617e-01,  2.97000685e+00,\n",
       "         2.44125380e+00,  5.64269414e-01, -3.69632857e+00,\n",
       "        -4.45831215e+00, -2.61928120e+00, -4.15477494e+00,\n",
       "        -2.44128233e+00],\n",
       "       [-1.32328054e-01,  1.94184024e+00,  5.20119365e+00,\n",
       "        -1.13826503e+00, -2.59946584e+00,  7.43577277e-01,\n",
       "         5.07138459e+00, -2.60846172e+00,  1.06383252e+00,\n",
       "         1.32719058e+00],\n",
       "       [-4.19250369e-01,  2.20450587e-01, -5.82476697e-01,\n",
       "         1.01840358e-01,  1.02232728e+00, -2.41107540e-01,\n",
       "         6.34842824e-01,  7.32120055e-01,  6.19149896e-01,\n",
       "        -1.47788160e+00],\n",
       "       [-1.48028477e+00, -8.80121589e-01, -1.57727218e+00,\n",
       "         1.78976884e+00,  1.20261871e-01,  2.77408700e+00,\n",
       "        -4.79239572e+00, -3.52542288e+00,  1.40433906e-01,\n",
       "         1.60528738e+00],\n",
       "       [-9.70266560e-01, -1.42762270e+00, -1.11343637e+00,\n",
       "        -3.28819697e-01,  9.41583689e-01, -7.29263889e-01,\n",
       "         7.32360075e-01, -5.75570163e-01, -1.18170888e+00,\n",
       "        -2.09025014e+00],\n",
       "       [-6.51210174e-01, -5.56894003e+00,  2.58962221e+00,\n",
       "        -3.13991764e+00, -1.59875531e+00,  1.30501699e+00,\n",
       "        -2.35128062e-01, -2.36200702e+00,  1.83193737e+00,\n",
       "        -2.32542514e+00],\n",
       "       [-1.99642053e-01, -7.98985149e-01,  2.02759376e-01,\n",
       "        -1.69446715e+00, -1.33587729e+00, -4.01454540e-01,\n",
       "        -1.32964237e+00,  6.79793407e-01,  8.80324255e-01,\n",
       "        -1.45594125e-01],\n",
       "       [ 3.82585322e+00,  5.46332705e-02,  3.95098428e+00,\n",
       "        -1.88011336e+00,  5.06448349e+00, -1.64038467e-01,\n",
       "        -3.47911303e+00, -7.88521862e-02, -2.08171850e+00,\n",
       "         1.30336601e+00],\n",
       "       [-4.19250312e-01,  2.20450080e-01, -5.82476742e-01,\n",
       "         1.01840738e-01,  1.02232722e+00, -2.41107410e-01,\n",
       "         6.34842862e-01,  7.32120614e-01,  6.19149742e-01,\n",
       "        -1.47788145e+00],\n",
       "       [-8.78487627e-01,  2.05586536e+00, -1.26087279e+00,\n",
       "         6.13659714e-01,  1.68539290e+00,  1.01340251e+00,\n",
       "         8.52545697e-01,  6.31957287e-01,  9.65197237e-01,\n",
       "        -4.80442998e+00],\n",
       "       [-7.32730037e-01,  1.23594657e-01, -7.77216942e-01,\n",
       "        -2.32477003e-01,  1.89735164e+00,  9.16069178e-02,\n",
       "         1.10062991e+00,  1.14522017e+00,  1.16054074e+00,\n",
       "        -1.71957381e+00],\n",
       "       [ 8.53606686e-01, -1.83497304e-01,  1.23402264e-01,\n",
       "         6.99758342e-01,  4.07427304e-01, -2.99472099e-02,\n",
       "        -1.47673346e+00, -5.93144050e-01,  7.36031304e-02,\n",
       "         8.52872134e-01],\n",
       "       [-9.60486491e-01, -1.41913099e+00, -1.12434400e+00,\n",
       "        -3.37767719e-01,  9.39745468e-01, -7.35810748e-01,\n",
       "         7.34399842e-01, -5.82978982e-01, -1.18050156e+00,\n",
       "        -2.08966176e+00],\n",
       "       [ 1.79408916e-01,  4.10774987e-01,  1.10837333e+00,\n",
       "        -6.82250351e-02, -1.39760907e+00, -1.05461611e-03,\n",
       "         1.31504672e+00, -2.48952726e-01, -3.49272513e-01,\n",
       "         7.16520071e-01],\n",
       "       [-6.09007597e-01,  1.43928409e+00, -1.05332065e+00,\n",
       "         5.77481639e-01,  1.40565877e+00,  6.41465634e-01,\n",
       "         7.65780664e-01,  8.06459005e-01,  9.19244814e-01,\n",
       "        -3.75406925e+00],\n",
       "       [-7.41447510e-01, -7.03711707e-01, -7.41829693e-01,\n",
       "        -1.55465121e-01,  6.74709415e-01, -5.07989409e-01,\n",
       "         5.02749382e-01, -3.11100527e-01, -4.58148708e-01,\n",
       "        -1.37006460e+00],\n",
       "       [-3.12185349e-01,  3.52717421e-01, -8.98071130e-01,\n",
       "         5.47148088e-01,  1.29391956e+00, -1.07759532e+00,\n",
       "         9.87125511e-01,  1.42481726e+00,  9.93988787e-01,\n",
       "        -1.96008355e+00],\n",
       "       [ 1.62779318e+00,  1.08669618e+00, -3.71215515e+00,\n",
       "         3.82304967e+00,  3.26234971e+00, -2.20511311e+00,\n",
       "        -6.39896085e-01, -6.02855082e+00,  5.41359311e+00,\n",
       "         7.58227305e+00],\n",
       "       [-7.24498891e-02, -1.36863034e+00,  1.54963725e-01,\n",
       "        -2.30280076e+00, -1.82412098e+00, -7.17410088e-01,\n",
       "        -1.70100757e+00,  1.21649153e+00,  1.36190883e+00,\n",
       "        -3.85334334e-02],\n",
       "       [-3.49955716e-01,  1.96492980e+00,  2.06573654e+00,\n",
       "        -4.77642011e-02, -3.56044134e+00, -8.85568471e-01,\n",
       "         3.07410233e+00, -2.24479792e+00,  5.74969344e-01,\n",
       "         9.84890997e-01],\n",
       "       [ 9.59489686e-01, -2.94807252e+00, -1.94230199e+00,\n",
       "         4.05829622e+00, -4.55759716e-01,  2.68217014e+00,\n",
       "        -5.41791496e+00, -2.04682612e+00, -1.22489802e+00,\n",
       "         8.31915982e-01],\n",
       "       [ 7.13866153e+00, -3.08132148e+00, -6.74031478e+00,\n",
       "        -2.85154973e+00, -8.92187451e+00,  6.93888808e+00,\n",
       "        -2.07630874e-02,  3.90619217e+00,  3.44042803e+00,\n",
       "        -4.10973527e+00],\n",
       "       [-1.14316621e+00,  5.68047969e-01,  1.75021651e-01,\n",
       "         4.99971709e-01, -1.88065383e+00,  8.01241245e-01,\n",
       "         1.06136430e+00,  1.09769176e+00, -1.53983692e+00,\n",
       "         1.54570602e+00],\n",
       "       [-3.63048669e+00, -2.25692259e+00, -2.16381520e+00,\n",
       "        -1.93238622e-01,  1.78756779e+00, -1.94125617e+00,\n",
       "         2.08957642e+00, -2.41859233e+00, -2.47637646e+00,\n",
       "        -3.37063010e+00],\n",
       "       [ 8.53699337e-01, -1.82959733e-01,  1.23033029e-01,\n",
       "         7.00018875e-01,  4.06998804e-01, -3.01801538e-02,\n",
       "        -1.47701743e+00, -5.92968288e-01,  7.33664763e-02,\n",
       "         8.52621027e-01],\n",
       "       [ 1.09892956e+00, -2.92539657e+00, -1.79321713e+00,\n",
       "         4.64806307e-01,  2.06836534e+00, -3.36870598e-01,\n",
       "        -1.64239393e+00, -2.12605958e+00, -3.29142471e-01,\n",
       "         3.66544518e+00],\n",
       "       [ 1.79408908e-01,  4.10776012e-01,  1.10837322e+00,\n",
       "        -6.82246427e-02, -1.39760987e+00, -1.05404436e-03,\n",
       "         1.31504604e+00, -2.48953195e-01, -3.49272830e-01,\n",
       "         7.16518959e-01],\n",
       "       [ 1.90288849e+00,  1.80051611e+00,  2.20081392e+00,\n",
       "         3.26243334e-01,  3.07923241e+00, -1.04263326e-01,\n",
       "        -3.35478519e+00, -8.42939734e-01, -2.52599927e+00,\n",
       "         4.88890012e-01]])"
      ]
     },
     "execution_count": 28,
     "metadata": {},
     "output_type": "execute_result"
    }
   ],
   "source": [
    "Axes3D\n",
    "\n",
    "n_points = 100\n",
    "n_neighbors = 10\n",
    "n_components = 10\n",
    "\n",
    "# Create figure\n",
    "fig = plt.figure(figsize=(15, 8))\n",
    "\n",
    "# Add 3d scatter plot\n",
    "\n",
    "#ax.view_init(4, -72)\n",
    "\n",
    "method = manifold.MDS(n_components, max_iter=100, n_init=1, dissimilarity= 'precomputed')\n",
    "\n",
    "Y2 = method.fit_transform(Y)\n",
    "ax = fig.add_subplot(1, 1, 1)\n",
    "ax.scatter(Y2[:, 0], Y2[:, 1], cmap=plt.cm.Spectral)\n",
    "ax.set_title(f\"MDS: n={n_components}\")\n",
    "plt.show()"
   ]
  },
  {
   "cell_type": "markdown",
   "metadata": {},
   "source": [
    "### Зависимость средних расстояний от размерности MDS"
   ]
  },
  {
   "cell_type": "code",
   "execution_count": 29,
   "metadata": {
    "scrolled": true
   },
   "outputs": [
    {
     "data": {
      "image/png": "[encoded data removed]",
      "text/plain": [
       "<Figure size 432x288 with 1 Axes>"
      ]
     },
     "metadata": {
      "needs_background": "light"
     },
     "output_type": "display_data"
    }
   ],
   "source": [
    "x = [i for i in range(10,100)]\n",
    "y = []\n",
    "for i in range(len(x)):\n",
    "    method = manifold.MDS(x[i], max_iter=100, n_init=1, dissimilarity= 'precomputed')\n",
    "    Y2 = method.fit_transform(Y)\n",
    "    y.append(numpy.mean(sklearn.metrics.pairwise_distances(Y2) - Y))\n",
    "plt.plot(x,y)\n",
    "plt.show()"
   ]
  },
  {
   "cell_type": "markdown",
   "metadata": {},
   "source": [
    "### Зависимость средних расстояний от кол-ва итераций SMACOF"
   ]
  },
  {
   "cell_type": "code",
   "execution_count": 30,
   "metadata": {},
   "outputs": [
    {
     "data": {
      "image/png": "[encoded data removed]",
      "text/plain": [
       "<Figure size 432x288 with 1 Axes>"
      ]
     },
     "metadata": {
      "needs_background": "light"
     },
     "output_type": "display_data"
    }
   ],
   "source": [
    "x = [i for i in range(1,150)]\n",
    "y = []\n",
    "for i in range(len(x)):\n",
    "    method = manifold.MDS(10, max_iter=x[i], n_init=4,n_jobs=-1, dissimilarity= 'precomputed')\n",
    "    Y2 = method.fit_transform(Y)\n",
    "    y.append(numpy.mean(sklearn.metrics.pairwise_distances(Y2) - Y))\n",
    "plt.plot(x,y)\n",
    "plt.show()"
   ]
  },
  {
   "cell_type": "markdown",
   "metadata": {},
   "source": [
    "### Зависимость от размера изначального датасета слов свободной группы"
   ]
  },
  {
   "cell_type": "code",
   "execution_count": 31,
   "metadata": {},
   "outputs": [
    {
     "data": {
      "image/png": "[encoded data removed]",
      "text/plain": [
       "<Figure size 432x288 with 1 Axes>"
      ]
     },
     "metadata": {
      "needs_background": "light"
     },
     "output_type": "display_data"
    }
   ],
   "source": [
    "x = [i for i in range(50, 500)]\n",
    "y = []\n",
    "for k in range(50, 500):\n",
    "    dataset = [group_dataset.__getitem__(i) for i in range(k)]\n",
    "    Y = pairwise_distances(numpy.array(dataset,dtype=object))\n",
    "    method = manifold.MDS(10, max_iter=200, n_init=4, n_jobs=-1,dissimilarity= 'precomputed')\n",
    "    Y2 = method.fit_transform(Y)\n",
    "    y.append(numpy.mean(sklearn.metrics.pairwise_distances(Y2) - Y))\n",
    "plt.plot(x,y)\n",
    "plt.show()"
   ]
  },
  {
   "cell_type": "markdown",
   "metadata": {},
   "source": [
    "### Зависимость от кол-ва разных запусков SMACOF"
   ]
  },
  {
   "cell_type": "code",
   "execution_count": 32,
   "metadata": {},
   "outputs": [],
   "source": [
    "dataset = [group_dataset.__getitem__(i) for i in range(50)]\n",
    "Y = pairwise_distances(numpy.array(dataset,dtype=object))"
   ]
  },
  {
   "cell_type": "code",
   "execution_count": 33,
   "metadata": {
    "scrolled": false
   },
   "outputs": [
    {
     "data": {
      "image/png": "[encoded data removed]",
      "text/plain": [
       "<Figure size 432x288 with 1 Axes>"
      ]
     },
     "metadata": {
      "needs_background": "light"
     },
     "output_type": "display_data"
    }
   ],
   "source": [
    "x = [i for i in range(1,100)]\n",
    "y = []\n",
    "for i in range(len(x)):\n",
    "    method = manifold.MDS(10, n_init=x[i],n_jobs=-1, dissimilarity= 'precomputed')\n",
    "    Y2 = method.fit_transform(Y)\n",
    "    y.append(numpy.mean(sklearn.metrics.pairwise_distances(Y2) - Y))\n",
    "plt.plot(x,y)\n",
    "plt.show()"
   ]
  },
  {
   "cell_type": "code",
   "execution_count": null,
   "metadata": {},
   "outputs": [],
   "source": []
  }
 ],
 "metadata": {
  "kernelspec": {
   "display_name": "Python 3",
   "language": "python",
   "name": "python3"
  },
  "language_info": {
   "codemirror_mode": {
    "name": "ipython",
    "version": 3
   },
   "file_extension": ".py",
   "mimetype": "text/x-python",
   "name": "python",
   "nbconvert_exporter": "python",
   "pygments_lexer": "ipython3",
   "version": "3.8.5"
  }
 },
 "nbformat": 4,
 "nbformat_minor": 4
}
